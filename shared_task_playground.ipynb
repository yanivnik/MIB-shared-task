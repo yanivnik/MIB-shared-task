{
 "cells": [
  {
   "cell_type": "code",
   "execution_count": 1,
   "metadata": {},
   "outputs": [],
   "source": [
    "%load_ext autoreload\n",
    "%autoreload 2\n",
    "\n",
    "import sys\n",
    "import torch\n",
    "sys.path.append('EAP-IG/src')\n",
    "\n",
    "from functools import partial\n",
    "\n",
    "from torch.utils.data import DataLoader\n",
    "from transformer_lens import HookedTransformer\n",
    "from datasets import load_dataset\n",
    "\n",
    "from eap.graph import Graph\n",
    "from eap.attribute import attribute\n",
    "from eap.attribute_node import attribute_node\n",
    "from eap.evaluate import evaluate_graph, evaluate_baseline\n",
    "from MIB_circuit_track.dataset import HFEAPDataset\n",
    "from MIB_circuit_track.metrics import get_metric\n",
    "from MIB_circuit_track.utils import MODEL_NAME_TO_FULLNAME, TASKS_TO_HF_NAMES"
   ]
  },
  {
   "cell_type": "markdown",
   "metadata": {},
   "source": [
    "## Loading model and data"
   ]
  },
  {
   "cell_type": "code",
   "execution_count": 2,
   "metadata": {},
   "outputs": [],
   "source": [
    "model_name = \"gpt2\" # One of [\"gpt2\", \"llama3\", \"gemma2\", \"qwen2.5\"]\n",
    "model_name = MODEL_NAME_TO_FULLNAME[model_name]\n",
    "\n",
    "dataset_name = \"ioi\" # One of [\"ioi\", \"mcqa\", \"arithmetic_addition\", \"arithmetic_subtraction\", \"arc_easy\", \"arc_challenge\"]\n",
    "dataset_name = f\"mib-bench/{TASKS_TO_HF_NAMES[dataset_name]}\""
   ]
  },
  {
   "cell_type": "code",
   "execution_count": null,
   "metadata": {},
   "outputs": [],
   "source": [
    "model = HookedTransformer.from_pretrained(model_name, attn_implementation=\"eager\", torch_dtype=torch.bfloat16, device=\"cuda\")\n",
    "model.cfg.use_split_qkv_input = True\n",
    "model.cfg.use_attn_result = True\n",
    "model.cfg.use_hook_mlp_in = True\n",
    "model.cfg.ungroup_grouped_query_attention = True"
   ]
  },
  {
   "cell_type": "code",
   "execution_count": null,
   "metadata": {},
   "outputs": [],
   "source": [
    "dataset = HFEAPDataset(dataset_name, model.tokenizer)\n",
    "dataset.head(500)\n",
    "dataloader = dataset.to_dataloader(batch_size=64)\n",
    "metric_fn = get_metric(metric_name=\"logit_diff\", task=[\"ignore this\"], tokenizer=model.tokenizer, model=model)\n",
    "baseline = evaluate_baseline(model, dataloader, partial(metric_fn, loss=False, mean=False)).mean().item()"
   ]
  },
  {
   "cell_type": "markdown",
   "metadata": {},
   "source": [
    "## Attribution, Pruning, and Evaluation"
   ]
  },
  {
   "cell_type": "code",
   "execution_count": null,
   "metadata": {},
   "outputs": [],
   "source": [
    "# Define and attribute the graph in the following nodes\n",
    "\n",
    "g_edges = Graph.from_model(model) # For edge based attribution\n",
    "g_nodes = Graph.from_model(model) # For node based attribution\n",
    "\n",
    "attribute(model, g_edges, dataloader, partial(metric_fn, loss=True, mean=True), method='EAP-IG-inputs', ig_steps=5)\n",
    "attribute_node(model, g_nodes, dataloader, partial(metric_fn, loss=True, mean=True), method='EAP-IG-inputs', ig_steps=5)"
   ]
  },
  {
   "cell_type": "code",
   "execution_count": 6,
   "metadata": {},
   "outputs": [],
   "source": [
    "# Build the graph given the calculated scores\n",
    "# Some relevant information:\n",
    "#   graph.in_graph and graph.nodes_in_graph need to be updated to reflect the edges or nodes that are in the graph\n",
    "#   graph.scores and graph.nodes_scores contain the scores of the edges or nodes, post attribution (scores will be non-zero only if attribution was done on edges, same for nodes_scores if attribution was done on nodes)\n",
    "\n",
    "def build_graph_from_attribution_scores(g_edges, g_nodes):\n",
    "    # NOTE: THIS FUNCTION SHOULD BE REPLACED TO BE BASED ON SOMETHING SMARTER (GRAPH ALGORITHM ETC)\n",
    "    g_edges.apply_greedy(n_edges=250, absolute=True, reset=True, prune=True)\n",
    "    g_nodes.apply_node_topn(n_nodes=45, absolute=True, reset=True, prune=True)\n",
    "    return g_edges\n",
    "\n",
    "graph = build_graph_from_attribution_scores(g_edges, g_nodes)"
   ]
  },
  {
   "cell_type": "code",
   "execution_count": null,
   "metadata": {},
   "outputs": [],
   "source": [
    "# Evaluate the graph to find it's faithfulness (higher = better)\n",
    "\n",
    "results = evaluate_graph(model, graph, dataloader, partial(metric_fn, loss=False, mean=False)).mean().item()\n",
    "print(f\"Faithfulness: {results / baseline}\")"
   ]
  },
  {
   "cell_type": "code",
   "execution_count": null,
   "metadata": {},
   "outputs": [],
   "source": []
  }
 ],
 "metadata": {
  "kernelspec": {
   "display_name": "merging",
   "language": "python",
   "name": "python3"
  },
  "language_info": {
   "codemirror_mode": {
    "name": "ipython",
    "version": 3
   },
   "file_extension": ".py",
   "mimetype": "text/x-python",
   "name": "python",
   "nbconvert_exporter": "python",
   "pygments_lexer": "ipython3",
   "version": "3.11.9"
  }
 },
 "nbformat": 4,
 "nbformat_minor": 2
}
