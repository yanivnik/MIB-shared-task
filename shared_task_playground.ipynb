{
 "cells": [
  {
   "cell_type": "code",
   "execution_count": 1,
   "metadata": {},
   "outputs": [
    {
     "name": "stderr",
     "output_type": "stream",
     "text": [
      "/home/yaniv.n/bin/miniconda3/envs/cc/lib/python3.11/site-packages/tqdm/auto.py:21: TqdmWarning: IProgress not found. Please update jupyter and ipywidgets. See https://ipywidgets.readthedocs.io/en/stable/user_install.html\n",
      "  from .autonotebook import tqdm as notebook_tqdm\n"
     ]
    }
   ],
   "source": [
    "%load_ext autoreload\n",
    "%autoreload 2\n",
    "\n",
    "import sys\n",
    "import torch\n",
    "import math\n",
    "import copy\n",
    "sys.path.append('EAP-IG/src')\n",
    "\n",
    "from functools import partial\n",
    "\n",
    "from torch.utils.data import DataLoader\n",
    "from transformer_lens import HookedTransformer\n",
    "from datasets import load_dataset\n",
    "\n",
    "from eap.graph import Graph\n",
    "from eap.attribute import attribute\n",
    "from eap.attribute_node import attribute_node\n",
    "from eap.evaluate import evaluate_graph, evaluate_baseline\n",
    "from MIB_circuit_track.dataset import HFEAPDataset\n",
    "from MIB_circuit_track.metrics import get_metric\n",
    "from MIB_circuit_track.utils import MODEL_NAME_TO_FULLNAME, TASKS_TO_HF_NAMES\n",
    "from MIB_circuit_track.evaluation import evaluate_area_under_curve"
   ]
  },
  {
   "cell_type": "markdown",
   "metadata": {},
   "source": [
    "## Loading model and data"
   ]
  },
  {
   "cell_type": "code",
   "execution_count": 7,
   "metadata": {},
   "outputs": [],
   "source": [
    "model_name = \"qwen2.5\" # One of [\"gpt2\", \"llama3\", \"gemma2\", \"qwen2.5\"]\n",
    "model_name = MODEL_NAME_TO_FULLNAME[model_name]\n",
    "\n",
    "task_name = \"mcqa\" # One of [\"ioi\", \"mcqa\", \"arithmetic_addition\", \"arithmetic_subtraction\", \"arc_easy\", \"arc_challenge\"]\n",
    "dataset_name = f\"mib-bench/{TASKS_TO_HF_NAMES[task_name]}\""
   ]
  },
  {
   "cell_type": "code",
   "execution_count": 3,
   "metadata": {},
   "outputs": [
    {
     "name": "stderr",
     "output_type": "stream",
     "text": [
      "Xet Storage is enabled for this repo, but the 'hf_xet' package is not installed. Falling back to regular HTTP download. For better performance, install the package with: `pip install huggingface_hub[hf_xet]` or `pip install hf_xet`\n",
      "Sliding Window Attention is enabled but not implemented for `eager`; unexpected results may be encountered.\n",
      "WARNING:root:With reduced precision, it is advised to use `from_pretrained_no_processing` instead of `from_pretrained`.\n",
      "WARNING:root:You are not using LayerNorm, so the writing weights can't be centered! Skipping\n"
     ]
    },
    {
     "name": "stdout",
     "output_type": "stream",
     "text": [
      "Loaded pretrained model Qwen/Qwen2.5-0.5B into HookedTransformer\n"
     ]
    }
   ],
   "source": [
    "model = HookedTransformer.from_pretrained(model_name, attn_implementation=\"eager\", torch_dtype=torch.bfloat16, device=\"cuda\")\n",
    "model.cfg.use_split_qkv_input = True\n",
    "model.cfg.use_attn_result = True\n",
    "model.cfg.use_hook_mlp_in = True\n",
    "model.cfg.ungroup_grouped_query_attention = True"
   ]
  },
  {
   "cell_type": "code",
   "execution_count": 8,
   "metadata": {},
   "outputs": [
    {
     "name": "stderr",
     "output_type": "stream",
     "text": [
      "Generating train split: 100%|██████████| 110/110 [00:00<00:00, 336.58 examples/s]\n",
      "Generating validation split: 100%|██████████| 50/50 [00:00<00:00, 3091.14 examples/s]\n",
      "Generating test split: 100%|██████████| 50/50 [00:00<00:00, 3166.32 examples/s]\n",
      "Filter: 100%|██████████| 110/110 [00:00<00:00, 1097.19 examples/s]\n"
     ]
    },
    {
     "name": "stdout",
     "output_type": "stream",
     "text": [
      "Warning: `num_examples` is greater than the size of the dataset! Returning the full dataset.\n"
     ]
    },
    {
     "name": "stderr",
     "output_type": "stream",
     "text": [
      "100%|██████████| 2/2 [00:08<00:00,  4.33s/it]\n"
     ]
    }
   ],
   "source": [
    "dataset = HFEAPDataset(dataset_name, model.tokenizer, task=task_name)\n",
    "dataset.head(500)\n",
    "dataloader = dataset.to_dataloader(batch_size=64)\n",
    "metric_fn = get_metric(metric_name=\"logit_diff\", task=[\"ignore this\"], tokenizer=model.tokenizer, model=model)\n",
    "baseline = evaluate_baseline(model, dataloader, partial(metric_fn, loss=False, mean=False)).mean().item()"
   ]
  },
  {
   "cell_type": "markdown",
   "metadata": {},
   "source": [
    "## Attribution, Pruning, and Evaluation"
   ]
  },
  {
   "cell_type": "code",
   "execution_count": 13,
   "metadata": {},
   "outputs": [
    {
     "name": "stdout",
     "output_type": "stream",
     "text": [
      "362 179749\n"
     ]
    },
    {
     "name": "stderr",
     "output_type": "stream",
     "text": [
      "100%|██████████| 2/2 [00:36<00:00, 18.23s/it]\n",
      "100%|██████████| 2/2 [00:33<00:00, 16.85s/it]\n"
     ]
    }
   ],
   "source": [
    "# Define and attribute the graph in the following nodes\n",
    "\n",
    "g_edges = Graph.from_model(model) # For edge based attribution\n",
    "g_nodes = Graph.from_model(model) # For node based attribution\n",
    "print(len(g_edges.nodes), len(g_edges.edges))\n",
    "\n",
    "attribute(model, g_edges, dataloader, partial(metric_fn, loss=True, mean=True), method='EAP-IG-inputs', ig_steps=5)\n",
    "attribute_node(model, g_nodes, dataloader, partial(metric_fn, loss=True, mean=True), method='EAP-IG-inputs', ig_steps=5)"
   ]
  },
  {
   "cell_type": "code",
   "execution_count": 11,
   "metadata": {},
   "outputs": [],
   "source": [
    "# Build the graph given the calculated scores\n",
    "# Some relevant information:\n",
    "#   graph.in_graph and graph.nodes_in_graph need to be updated to reflect the edges or nodes that are in the graph\n",
    "#   graph.scores and graph.nodes_scores contain the scores of the edges or nodes, post attribution (scores will be non-zero only if attribution was done on edges, same for nodes_scores if attribution was done on nodes)\n",
    "\n",
    "def build_graph_from_attribution_scores(g_edges, g_nodes):\n",
    "    # NOTE: THIS FUNCTION SHOULD BE REPLACED TO BE BASED ON SOMETHING SMARTER (GRAPH ALGORITHM ETC)\n",
    "    g_edges.apply_greedy(n_edges=250, absolute=True, reset=True, prune=True)\n",
    "    g_nodes.apply_node_topn(n_nodes=45, absolute=True, reset=True, prune=True)\n",
    "    return g_edges\n",
    "\n",
    "graph = build_graph_from_attribution_scores(g_edges, g_nodes)"
   ]
  },
  {
   "cell_type": "code",
   "execution_count": 12,
   "metadata": {},
   "outputs": [
    {
     "name": "stderr",
     "output_type": "stream",
     "text": [
      "100%|██████████| 2/2 [00:04<00:00,  2.12s/it]"
     ]
    },
    {
     "name": "stdout",
     "output_type": "stream",
     "text": [
      "Faithfulness: -0.23995535714285715\n"
     ]
    },
    {
     "name": "stderr",
     "output_type": "stream",
     "text": [
      "\n"
     ]
    }
   ],
   "source": [
    "# Evaluate the graph to find it's faithfulness (higher = better)\n",
    "\n",
    "results = evaluate_graph(model, graph, dataloader, partial(metric_fn, loss=False, mean=False)).mean().item()\n",
    "print(f\"Faithfulness: {results / baseline}\")"
   ]
  },
  {
   "cell_type": "code",
   "execution_count": 18,
   "metadata": {},
   "outputs": [
    {
     "name": "stderr",
     "output_type": "stream",
     "text": [
      "100%|██████████| 2/2 [00:36<00:00, 18.20s/it]\n"
     ]
    },
    {
     "name": "stdout",
     "output_type": "stream",
     "text": [
      "0 -0.8125\n",
      "0.001 -0.21875\n",
      "0.002 -0.16964285714285715\n",
      "0.005 0.10770089285714286\n",
      "0.01 0.17410714285714285\n",
      "0.02 0.8214285714285714\n",
      "0.05 0.2734375\n",
      "0.1 0.4888392857142857\n",
      "0.2 0.8392857142857143\n",
      "0.5 0.9508928571428571\n",
      "AUC (Higher is better):  0.863015625\n"
     ]
    }
   ],
   "source": [
    "# Similar to the two cells above, but calculates faithfulness \n",
    "# across percentages + calculates AUC (area under curve) for the faithfulness scores.\n",
    "# This is the score that is actually evaluated and important in the end.\n",
    " \n",
    "from einops import einsum\n",
    "import networkx as nx\n",
    "\n",
    "percentages = [0, 0.001, 0.002, 0.005, 0.01, 0.02, 0.05, 0.1, 0.2, 0.5]\n",
    "\n",
    "def auc(faithfulnesses, percentages, log_scale=False, ):\n",
    "    area_under = 0.\n",
    "    area_from_1 = 0.\n",
    "    for i in range(len(faithfulnesses) - 1):\n",
    "        i_1, i_2 = i, i+1\n",
    "        x_1 = percentages[i_1]\n",
    "        x_2 = percentages[i_2]\n",
    "        # area from point to 100\n",
    "        if log_scale:\n",
    "            x_1 = math.log(x_1)\n",
    "            x_2 = math.log(x_2)\n",
    "        trapezoidal = (x_2 - x_1) * \\\n",
    "                        (((abs(1. - faithfulnesses[i_1])) + (abs(1. - faithfulnesses[i_2]))) / 2)\n",
    "        area_from_1 += trapezoidal \n",
    "        \n",
    "        trapezoidal = (x_2 - x_1) * ((faithfulnesses[i_1] + faithfulnesses[i_2]) / 2)\n",
    "        area_under += trapezoidal\n",
    "    average = sum(faithfulnesses) / len(faithfulnesses)\n",
    "\n",
    "    return area_under, area_from_1, average\n",
    "\n",
    "\n",
    "def build_greedy_graph(g_edges, edge_percent):\n",
    "    n_edges = int(len(g_edges.edges) * edge_percent)\n",
    "    g_edges.apply_greedy(n_edges=n_edges, absolute=True, reset=True, prune=True)\n",
    "    return g_edges\n",
    "\n",
    "def build_topn_graph(g_edges, edge_percent):\n",
    "    n_edges = int(len(g_edges.edges) * edge_percent)\n",
    "    g_edges.apply_topn(n=n_edges, absolute=True, reset=True, prune=True)\n",
    "    return g_edges\n",
    "\n",
    "def build_graph_from_edges_and_nodes(g_edges, g_nodes, edge_percent, node_percent):\n",
    "    n_edges = int(len(g_edges.edges) * edge_percent)\n",
    "    n_nodes = min(len(g_nodes.nodes) - 1, max(0, int(len(g_nodes.nodes) * node_percent)))\n",
    "    g_edges.apply_greedy(n_edges=n_edges, absolute=True, reset=True, prune=True)\n",
    "\n",
    "    # Prune nodes based on node graph\n",
    "    g_nodes.apply_node_topn(n_nodes=n_nodes, absolute=True, reset=True, prune=True)\n",
    "    \n",
    "    g_edges.nodes_in_graph = copy.deepcopy(g_nodes.nodes_in_graph) # Take only nodes that were chosen also via node attribution\n",
    "    g_edges.in_graph[~g_edges.nodes_in_graph] = 0 # Zero out edges going out of nodes that were pruned out\n",
    "\n",
    "    n_edges_before = g_edges.in_graph.sum()\n",
    "    g_edges.prune()\n",
    "    n_edge_after = g_edges.in_graph.sum()\n",
    "\n",
    "    return g_edges\n",
    "\n",
    "def build_topn_graph_with_forced_connectivity(g_edges, edge_percent):\n",
    "    g_edges.reset()\n",
    "    g_edges.apply_topn(n=int(len(g_edges.edges) * edge_percent), absolute=True, reset=False, prune=False)\n",
    "    nodes_with_outgoing = g_edges.in_graph.any(dim=1)\n",
    "    nodes_with_ingoing = einsum(g_edges.in_graph.any(dim=0).float(), g_edges.forward_to_backward.float(), 'backward, forward backward -> forward') > 0\n",
    "    nodes_with_ingoing[0] = True\n",
    "    g_edges.nodes_in_graph += nodes_with_outgoing | nodes_with_ingoing # Note the difference from the code in apply_topn - here we add nodes if they have an incoming / outgoing edge\n",
    "    nx_graph = g_edges.to_networkx(check_in_graph=True)\n",
    "\n",
    "    print(f\"1, {g_edges.in_graph.sum()}\")\n",
    "    # Ensure connectivity of all chosen nodes\n",
    "    for node in g_edges.nodes.values():\n",
    "        if node.in_graph:\n",
    "            # Check connectivity to logits node\n",
    "            connected_to_output = nx.has_path(nx_graph, node.name, 'logits')\n",
    "            if not connected_to_output:\n",
    "                g_edges.edges[f'{node.name}->logits'].in_graph = True\n",
    "            connected_to_input = nx.has_path(nx_graph, 'input', node.name)\n",
    "            if not connected_to_input:\n",
    "                if node.qkv_inputs:\n",
    "                    possible_edges_to_add = [g_edges.edges[f'input->{node.name}<{letter}>'] for letter in 'qkv']\n",
    "                    best_edge = max(possible_edges_to_add, key=lambda e: e.score)\n",
    "                    best_edge.in_graph = True\n",
    "                else:\n",
    "                    g_edges.edges[f'input->{node.name}'].in_graph = True\n",
    "    print(f\"2, {g_edges.in_graph.sum()}\")\n",
    "\n",
    "    g_edges.prune()\n",
    "    print(f\"3, {g_edges.in_graph.sum()}\")\n",
    "    return g_edges\n",
    "\n",
    "\n",
    "g_edges = Graph.from_model(model) # For edge based attribution\n",
    "# g_nodes = Graph.from_model(model) # For node based attribution\n",
    "attribute(model, g_edges, dataloader, partial(metric_fn, loss=True, mean=True), method='EAP-IG-inputs', ig_steps=5)\n",
    "# attribute_node(model, g_nodes, dataloader, partial(metric_fn, loss=True, mean=True), method='EAP-IG-inputs', ig_steps=5)\n",
    "\n",
    "faithfulnesses = []\n",
    "for edge_percent in percentages:\n",
    "    # node_percent = edge_percent\n",
    "    # graph = build_greedy_graph(g_edges, edge_percent)\n",
    "    # graph = build_graph_from_edges_and_nodes(g_edges, g_nodes, edge_percent, node_percent)\n",
    "    graph = build_topn_graph(g_edges, edge_percent)\n",
    "    # graph = build_topn_graph_with_forced_connectivity(g_edges, edge_percent)\n",
    "    faith = evaluate_graph(model, graph, dataloader, partial(metric_fn, loss=False, mean=False), quiet=True).mean().item() / baseline\n",
    "    faithfulnesses.append(faith)\n",
    "    print(edge_percent, faithfulnesses[-1])\n",
    "\n",
    "print('AUC (Higher is better): ', auc(faithfulnesses + [1.0], percentages + [1.0], log_scale=False)[0])\n",
    "\n",
    "# Logging some output results (GPT2, IOI):\n",
    "# Greedy edge-based AUC: 0.9687\n",
    "# Edge-based + pruning nodes based on node scores (node_percent=edge_percent): 0.5644\n",
    "# Edge-based topn: 0.9666\n",
    "# Edge-based topn + forced connectivity: 0.9666\n",
    "\n",
    "\n",
    "# Logging some output results (QWEN2.5-0.5B, MCQA):\n",
    "# Greedy edge-based AUC: 0.8602\n",
    "# Edge-based + pruning nodes based on node scores (node_percent=edge_percent): 0.5618\n",
    "# Edge-based topn: 0.8630\n",
    "# Edge-based topn + forced connectivity: 0.8633"
   ]
  },
  {
   "cell_type": "code",
   "execution_count": null,
   "metadata": {},
   "outputs": [],
   "source": []
  }
 ],
 "metadata": {
  "kernelspec": {
   "display_name": "cc",
   "language": "python",
   "name": "python3"
  },
  "language_info": {
   "codemirror_mode": {
    "name": "ipython",
    "version": 3
   },
   "file_extension": ".py",
   "mimetype": "text/x-python",
   "name": "python",
   "nbconvert_exporter": "python",
   "pygments_lexer": "ipython3",
   "version": "3.11.9"
  }
 },
 "nbformat": 4,
 "nbformat_minor": 2
}
